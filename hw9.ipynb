{
  "nbformat": 4,
  "nbformat_minor": 0,
  "metadata": {
    "colab": {
      "name": "hw9",
      "provenance": [],
      "collapsed_sections": [],
      "authorship_tag": "ABX9TyNRxoaiut7WMaMK+SEKZI2v"
    },
    "kernelspec": {
      "name": "python3",
      "display_name": "Python 3"
    }
  },
  "cells": [
    {
      "cell_type": "markdown",
      "metadata": {
        "id": "W1w2HJEZYIDg"
      },
      "source": [
        "# Fashin MNIST\n",
        "#### MNIST 패션 이미지를 CNN을 이용하여 분류하세요. CNN을 이용한 분류 결과를 MLP와 비교해보세요.\n"
      ]
    },
    {
      "cell_type": "code",
      "metadata": {
        "id": "ke8rztXwZg_G"
      },
      "source": [
        "from tensorflow import keras\n",
        "from keras import models \n",
        "from keras import layers\n",
        "import numpy as np\n",
        "import matplotlib.pyplot as plt\n",
        "from keras.utils import to_categorical\n",
        "from keras.datasets import fashion_mnist"
      ],
      "execution_count": 32,
      "outputs": []
    },
    {
      "cell_type": "markdown",
      "metadata": {
        "id": "coSWlJKHZiiK"
      },
      "source": [
        "#### Multi-Layer Perceptron (MLP)"
      ]
    },
    {
      "cell_type": "code",
      "metadata": {
        "id": "FKyO1SP0ZnkZ"
      },
      "source": [
        "(X_train, y_train), (X_test, y_test) = fashion_mnist.load_data()\n",
        "y_train=to_categorical(y_train)\n",
        "y_test=to_categorical(y_test)\n",
        "\n",
        "# preprocessing\n",
        "X_train = X_train.reshape((60000, 28*28))\n",
        "X_train = X_train/255\n",
        "\n",
        "X_test = X_test.reshape((10000, 28*28))\n",
        "X_test = X_test/255\n",
        "\n",
        "net = models.Sequential()\n",
        "net.add(layers.Dense(512, activation='relu', input_shape=(28*28,))) \n",
        "net.add(layers.Dense(512, activation='relu')) \n",
        "net.add(layers.Dropout(0.5))\n",
        "net.add(layers.Dense(512, activation='relu')) \n",
        "net.add(layers.Dropout(0.5))\n",
        "net.add(layers.Dense(10, activation='softmax')) \n",
        "net.compile(optimizer='nadam',loss='categorical_crossentropy',metrics=['acc'])"
      ],
      "execution_count": 33,
      "outputs": []
    },
    {
      "cell_type": "code",
      "metadata": {
        "id": "qiMJZn9aZpwQ"
      },
      "source": [
        "X_val = X_train[:10000]\n",
        "partial_X_train = X_train[10000:]\n",
        "\n",
        "y_val = y_train[:10000]\n",
        "partial_y_train = y_train[10000:]"
      ],
      "execution_count": 34,
      "outputs": []
    },
    {
      "cell_type": "code",
      "metadata": {
        "id": "zk3gDzpTZsAZ",
        "outputId": "843c52ec-a78d-4445-cfd7-14f470ed87f9",
        "colab": {
          "base_uri": "https://localhost:8080/"
        }
      },
      "source": [
        "val= net.fit(partial_X_train,partial_y_train,epochs=10, batch_size=64, validation_data=(X_val, y_val))"
      ],
      "execution_count": 35,
      "outputs": [
        {
          "output_type": "stream",
          "text": [
            "Epoch 1/10\n",
            "782/782 [==============================] - 18s 23ms/step - loss: 0.5714 - acc: 0.7945 - val_loss: 0.5057 - val_acc: 0.8165\n",
            "Epoch 2/10\n",
            "782/782 [==============================] - 17s 22ms/step - loss: 0.3996 - acc: 0.8565 - val_loss: 0.4309 - val_acc: 0.8352\n",
            "Epoch 3/10\n",
            "782/782 [==============================] - 18s 23ms/step - loss: 0.3602 - acc: 0.8705 - val_loss: 0.3870 - val_acc: 0.8552\n",
            "Epoch 4/10\n",
            "782/782 [==============================] - 18s 23ms/step - loss: 0.3320 - acc: 0.8806 - val_loss: 0.3326 - val_acc: 0.8745\n",
            "Epoch 5/10\n",
            "782/782 [==============================] - 18s 22ms/step - loss: 0.3155 - acc: 0.8847 - val_loss: 0.3491 - val_acc: 0.8740\n",
            "Epoch 6/10\n",
            "782/782 [==============================] - 18s 23ms/step - loss: 0.3007 - acc: 0.8911 - val_loss: 0.3487 - val_acc: 0.8755\n",
            "Epoch 7/10\n",
            "782/782 [==============================] - 17s 22ms/step - loss: 0.2882 - acc: 0.8962 - val_loss: 0.3283 - val_acc: 0.8796\n",
            "Epoch 8/10\n",
            "782/782 [==============================] - 18s 23ms/step - loss: 0.2773 - acc: 0.8977 - val_loss: 0.3336 - val_acc: 0.8808\n",
            "Epoch 9/10\n",
            "782/782 [==============================] - 17s 22ms/step - loss: 0.2716 - acc: 0.9002 - val_loss: 0.3001 - val_acc: 0.8894\n",
            "Epoch 10/10\n",
            "782/782 [==============================] - 18s 23ms/step - loss: 0.2620 - acc: 0.9026 - val_loss: 0.3240 - val_acc: 0.8839\n"
          ],
          "name": "stdout"
        }
      ]
    },
    {
      "cell_type": "code",
      "metadata": {
        "id": "biqOr3ZGZtwt",
        "outputId": "7a01325c-c5ab-49bc-c976-ce733cc654a8",
        "colab": {
          "base_uri": "https://localhost:8080/"
        }
      },
      "source": [
        "test_loss, test_acc = net.evaluate(X_test,y_test)"
      ],
      "execution_count": 36,
      "outputs": [
        {
          "output_type": "stream",
          "text": [
            "313/313 [==============================] - 1s 4ms/step - loss: 0.3626 - acc: 0.8749\n"
          ],
          "name": "stdout"
        }
      ]
    },
    {
      "cell_type": "code",
      "metadata": {
        "id": "eD5eZ7-O1pZY",
        "outputId": "5a246af9-aeb4-487c-9cc0-290c82409308",
        "colab": {
          "base_uri": "https://localhost:8080/",
          "height": 299
        }
      },
      "source": [
        "val_dict = val.history\n",
        "loss = val_dict['loss']\n",
        "val_loss = val_dict['val_loss']\n",
        "\n",
        "x = np.arange(0,len(loss))\n",
        "plt.plot(x,loss,'b-',label='Loss')\n",
        "plt.plot(x,val_loss,'r-',label='Val Loss')\n",
        "plt.title(\"MLP Loss\")\n",
        "plt.legend()"
      ],
      "execution_count": 118,
      "outputs": [
        {
          "output_type": "execute_result",
          "data": {
            "text/plain": [
              "<matplotlib.legend.Legend at 0x7f155ebeba58>"
            ]
          },
          "metadata": {
            "tags": []
          },
          "execution_count": 118
        },
        {
          "output_type": "display_data",
          "data": {
            "image/png": "[encoded data removed]",
            "text/plain": [
              "<Figure size 432x288 with 1 Axes>"
            ]
          },
          "metadata": {
            "tags": [],
            "needs_background": "light"
          }
        }
      ]
    },
    {
      "cell_type": "code",
      "metadata": {
        "id": "SVxGUhBr1q-9",
        "outputId": "fee677a8-7716-43f4-e963-07879fc52e76",
        "colab": {
          "base_uri": "https://localhost:8080/",
          "height": 299
        }
      },
      "source": [
        "acc = val_dict['acc']\n",
        "val_acc = val_dict['val_acc']\n",
        "plt.plot(x,acc,'b-',label='Accuracy')\n",
        "plt.plot(x,val_acc,'r-',label='Val Accuracy')\n",
        "plt.title(\"MLP Accuracy\")\n",
        "plt.legend()"
      ],
      "execution_count": 119,
      "outputs": [
        {
          "output_type": "execute_result",
          "data": {
            "text/plain": [
              "<matplotlib.legend.Legend at 0x7f155eb6bf28>"
            ]
          },
          "metadata": {
            "tags": []
          },
          "execution_count": 119
        },
        {
          "output_type": "display_data",
          "data": {
            "image/png": "[encoded data removed]",
            "text/plain": [
              "<Figure size 432x288 with 1 Axes>"
            ]
          },
          "metadata": {
            "tags": [],
            "needs_background": "light"
          }
        }
      ]
    },
    {
      "cell_type": "markdown",
      "metadata": {
        "id": "YSoOPFMQZ0NR"
      },
      "source": [
        "# CNN"
      ]
    },
    {
      "cell_type": "code",
      "metadata": {
        "id": "txu1fkAYZ2hd"
      },
      "source": [
        "(X_CNN, y_CNN), (X_CNNtest, y_CNNtest) = fashion_mnist.load_data()\n",
        "\n",
        "# preprocessing\n",
        "X_CNN = X_CNN.reshape((60000, 28, 28, 1))\n",
        "X_CNN = X_CNN/255\n",
        "\n",
        "X_CNNtest = X_CNNtest.reshape((10000, 28, 28, 1))\n",
        "X_CNNtest = X_CNNtest/255\n",
        "\n",
        "y_CNN=to_categorical(y_CNN)\n",
        "y_CNNtest=to_categorical(y_CNNtest)"
      ],
      "execution_count": 73,
      "outputs": []
    },
    {
      "cell_type": "code",
      "metadata": {
        "id": "TDrB121FU4zJ"
      },
      "source": [
        "net = models.Sequential()\n",
        "net.add(layers.Conv2D(32,(3,3), activation='relu', input_shape=(28,28,1)))\n",
        "net.add(layers.MaxPooling2D((2,2)))\n",
        "net.add(layers.Conv2D(64,(3,3), activation='relu')) \n",
        "net.add(layers.MaxPooling2D((2,2)))\n",
        "net.add(layers.Conv2D(64,(3,3), activation='relu'))\n",
        "net.add(layers.Flatten())\n",
        "net.add(layers.Dense(64, activation='relu')) \n",
        "net.add(layers.Dense(10, activation='softmax')) \n",
        "net.compile(optimizer='nadam',loss='categorical_crossentropy',metrics=['acc'])"
      ],
      "execution_count": 74,
      "outputs": []
    },
    {
      "cell_type": "code",
      "metadata": {
        "id": "W1HcNZwDqH9f",
        "outputId": "bc72e1c6-13fe-4e43-cb07-923240869d92",
        "colab": {
          "base_uri": "https://localhost:8080/"
        }
      },
      "source": [
        "net.summary()"
      ],
      "execution_count": 75,
      "outputs": [
        {
          "output_type": "stream",
          "text": [
            "Model: \"sequential_13\"\n",
            "_________________________________________________________________\n",
            "Layer (type)                 Output Shape              Param #   \n",
            "=================================================================\n",
            "conv2d_27 (Conv2D)           (None, 26, 26, 32)        320       \n",
            "_________________________________________________________________\n",
            "max_pooling2d_18 (MaxPooling (None, 13, 13, 32)        0         \n",
            "_________________________________________________________________\n",
            "conv2d_28 (Conv2D)           (None, 11, 11, 64)        18496     \n",
            "_________________________________________________________________\n",
            "max_pooling2d_19 (MaxPooling (None, 5, 5, 64)          0         \n",
            "_________________________________________________________________\n",
            "conv2d_29 (Conv2D)           (None, 3, 3, 64)          36928     \n",
            "_________________________________________________________________\n",
            "flatten_9 (Flatten)          (None, 576)               0         \n",
            "_________________________________________________________________\n",
            "dense_37 (Dense)             (None, 64)                36928     \n",
            "_________________________________________________________________\n",
            "dense_38 (Dense)             (None, 10)                650       \n",
            "=================================================================\n",
            "Total params: 93,322\n",
            "Trainable params: 93,322\n",
            "Non-trainable params: 0\n",
            "_________________________________________________________________\n"
          ],
          "name": "stdout"
        }
      ]
    },
    {
      "cell_type": "code",
      "metadata": {
        "id": "JjumND51krQ4"
      },
      "source": [
        "X_CNNval = X_CNN[:10000]\n",
        "partial_X_CNN = X_CNN[10000:]\n",
        "\n",
        "y_CNNval = y_CNN[:10000]\n",
        "partial_y_CNN = y_CNN[10000:]"
      ],
      "execution_count": 76,
      "outputs": []
    },
    {
      "cell_type": "code",
      "metadata": {
        "id": "RJLiHP5oqmHZ",
        "outputId": "fccbffd5-f054-4a44-c933-5e860396e1e5",
        "colab": {
          "base_uri": "https://localhost:8080/"
        }
      },
      "source": [
        "CNNval = net.fit(X_CNN, y_CNN, epochs=10, batch_size=64, validation_data=(X_CNNval, y_CNNval))"
      ],
      "execution_count": 111,
      "outputs": [
        {
          "output_type": "stream",
          "text": [
            "Epoch 1/10\n",
            "938/938 [==============================] - 51s 54ms/step - loss: 0.1379 - acc: 0.9489 - val_loss: 0.1285 - val_acc: 0.9525\n",
            "Epoch 2/10\n",
            "938/938 [==============================] - 55s 58ms/step - loss: 0.1260 - acc: 0.9542 - val_loss: 0.1170 - val_acc: 0.9550\n",
            "Epoch 3/10\n",
            "938/938 [==============================] - 51s 55ms/step - loss: 0.1179 - acc: 0.9552 - val_loss: 0.0927 - val_acc: 0.9675\n",
            "Epoch 4/10\n",
            "938/938 [==============================] - 52s 55ms/step - loss: 0.1057 - acc: 0.9603 - val_loss: 0.0876 - val_acc: 0.9663\n",
            "Epoch 5/10\n",
            "938/938 [==============================] - 53s 56ms/step - loss: 0.0972 - acc: 0.9638 - val_loss: 0.0775 - val_acc: 0.9691\n",
            "Epoch 6/10\n",
            "938/938 [==============================] - 52s 55ms/step - loss: 0.0910 - acc: 0.9663 - val_loss: 0.0721 - val_acc: 0.9719\n",
            "Epoch 7/10\n",
            "938/938 [==============================] - 51s 55ms/step - loss: 0.0840 - acc: 0.9686 - val_loss: 0.0697 - val_acc: 0.9725\n",
            "Epoch 8/10\n",
            "938/938 [==============================] - 52s 55ms/step - loss: 0.0767 - acc: 0.9714 - val_loss: 0.0593 - val_acc: 0.9780\n",
            "Epoch 9/10\n",
            "938/938 [==============================] - 52s 55ms/step - loss: 0.0727 - acc: 0.9729 - val_loss: 0.0532 - val_acc: 0.9816\n",
            "Epoch 10/10\n",
            "938/938 [==============================] - 52s 55ms/step - loss: 0.0676 - acc: 0.9746 - val_loss: 0.0645 - val_acc: 0.9737\n"
          ],
          "name": "stdout"
        }
      ]
    },
    {
      "cell_type": "code",
      "metadata": {
        "id": "VAtr5z_6TedS",
        "outputId": "24a2790d-1ca3-42c7-e100-0437c7025e2a",
        "colab": {
          "base_uri": "https://localhost:8080/"
        }
      },
      "source": [
        "test_loss, test_acc = net.evaluate(X_CNNtest,y_CNNtest)"
      ],
      "execution_count": 112,
      "outputs": [
        {
          "output_type": "stream",
          "text": [
            "313/313 [==============================] - 3s 10ms/step - loss: 0.4023 - acc: 0.9047\n"
          ],
          "name": "stdout"
        }
      ]
    },
    {
      "cell_type": "code",
      "metadata": {
        "id": "NMcKNFyjjbP6",
        "outputId": "a6b82102-ce57-471c-e60b-735540dc3cc0",
        "colab": {
          "base_uri": "https://localhost:8080/",
          "height": 299
        }
      },
      "source": [
        "CNNval_dict = CNNval.history\n",
        "CNNloss = CNNval_dict['loss']\n",
        "CNNval_loss = CNNval_dict['val_loss']\n",
        "\n",
        "x = np.arange(0,len(CNNloss))\n",
        "plt.plot(x,CNNloss,'b-',label='Loss')\n",
        "plt.plot(x,CNNval_loss,'r-',label='Val Loss')\n",
        "plt.title(\"CNN Loss\")\n",
        "plt.legend()"
      ],
      "execution_count": 120,
      "outputs": [
        {
          "output_type": "execute_result",
          "data": {
            "text/plain": [
              "<matplotlib.legend.Legend at 0x7f155eb22b70>"
            ]
          },
          "metadata": {
            "tags": []
          },
          "execution_count": 120
        },
        {
          "output_type": "display_data",
          "data": {
            "image/png": "[encoded data removed]",
            "text/plain": [
              "<Figure size 432x288 with 1 Axes>"
            ]
          },
          "metadata": {
            "tags": [],
            "needs_background": "light"
          }
        }
      ]
    },
    {
      "cell_type": "code",
      "metadata": {
        "id": "uq5PzJmhjqCk",
        "outputId": "4bdbaeb7-661d-4ca1-c613-5f83423853ef",
        "colab": {
          "base_uri": "https://localhost:8080/",
          "height": 299
        }
      },
      "source": [
        "CNNacc = CNNval_dict['acc']\n",
        "CNNval_acc = CNNval_dict['val_acc']\n",
        "plt.plot(x,CNNacc,'b-',label='Accuracy')\n",
        "plt.plot(x,CNNval_acc,'r-',label='Val Accuracy')\n",
        "plt.title(\"CNN Accuracy\")\n",
        "plt.legend()"
      ],
      "execution_count": 121,
      "outputs": [
        {
          "output_type": "execute_result",
          "data": {
            "text/plain": [
              "<matplotlib.legend.Legend at 0x7f155ea86518>"
            ]
          },
          "metadata": {
            "tags": []
          },
          "execution_count": 121
        },
        {
          "output_type": "display_data",
          "data": {
            "image/png": "[encoded data removed]",
            "text/plain": [
              "<Figure size 432x288 with 1 Axes>"
            ]
          },
          "metadata": {
            "tags": [],
            "needs_background": "light"
          }
        }
      ]
    },
    {
      "cell_type": "markdown",
      "metadata": {
        "id": "77g5hZBMjuoA"
      },
      "source": [
        "# 보고서\n",
        "\n",
        "MLP Loss, Accuracy와 CNN Loss, Accuracy를 보면 확인할 수 있는 점으로는 같은 표본에 대해 MLP에 비해 CNN의 Accuracy가 높고 Loss가 낮다는 점을 확인할 수 있다. 또 다른 점으로는 CNN은 선형적으로 증가하는데 비해 MLP에서는 초기 Accuracy의 증가하는 모습이 로그함수 형태임을 확인할 수 있었다."
      ]
    },
    {
      "cell_type": "code",
      "metadata": {
        "id": "eNF0b__L5dBN"
      },
      "source": [
        ""
      ],
      "execution_count": null,
      "outputs": []
    }
  ]
}