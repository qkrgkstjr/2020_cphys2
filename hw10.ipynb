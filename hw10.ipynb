{
  "nbformat": 4,
  "nbformat_minor": 0,
  "metadata": {
    "colab": {
      "name": "hw10",
      "provenance": [],
      "collapsed_sections": [],
      "authorship_tag": "ABX9TyMiQ/5KmDmym1vncLJWX4Nz"
    },
    "kernelspec": {
      "name": "python3",
      "display_name": "Python 3"
    }
  },
  "cells": [
    {
      "cell_type": "markdown",
      "metadata": {
        "id": "qtdbS-aeSMAa"
      },
      "source": [
        "# IMDB Datasets\n"
      ]
    },
    {
      "cell_type": "code",
      "metadata": {
        "colab": {
          "base_uri": "https://localhost:8080/"
        },
        "id": "-BlxTi8YT0Tc",
        "outputId": "74b81165-d958-4494-a9a3-105084a4d0d3"
      },
      "source": [
        "import numpy as np\n",
        "from tensorflow import keras\n",
        "from keras import models \n",
        "from keras import layers\n",
        "import matplotlib.pyplot as plt\n",
        "\n",
        "from keras.datasets import imdb\n",
        "# https://www.imdb.com/\n",
        "(X, y_train), (X_test, y_test) = imdb.load_data(num_words=10000)"
      ],
      "execution_count": 2,
      "outputs": [
        {
          "output_type": "stream",
          "text": [
            "Downloading data from https://storage.googleapis.com/tensorflow/tf-keras-datasets/imdb.npz\n",
            "17465344/17464789 [==============================] - 0s 0us/step\n"
          ],
          "name": "stdout"
        }
      ]
    },
    {
      "cell_type": "code",
      "metadata": {
        "id": "ju8QCsbST11m"
      },
      "source": [
        "# text to vector\n",
        "def vect(seq, dim=10000):\n",
        "    x=np.zeros((len(seq),dim))\n",
        "    for n, i in enumerate(seq):\n",
        "        x[n, i] = 1\n",
        "    return x\n",
        "\n",
        "X_train=vect(X)\n",
        "X_test=vect(X_test)"
      ],
      "execution_count": 3,
      "outputs": []
    },
    {
      "cell_type": "code",
      "metadata": {
        "colab": {
          "base_uri": "https://localhost:8080/"
        },
        "id": "AZhCY80UT6Ip",
        "outputId": "af06e3ea-527a-4656-e835-44020cfee38f"
      },
      "source": [
        "X_train[0]"
      ],
      "execution_count": 4,
      "outputs": [
        {
          "output_type": "execute_result",
          "data": {
            "text/plain": [
              "array([0., 1., 1., ..., 0., 0., 0.])"
            ]
          },
          "metadata": {
            "tags": []
          },
          "execution_count": 4
        }
      ]
    },
    {
      "cell_type": "code",
      "metadata": {
        "colab": {
          "base_uri": "https://localhost:8080/"
        },
        "id": "nKIlA1yeT7wP",
        "outputId": "925b52d9-3fa6-4494-aeb7-8012b9e28825"
      },
      "source": [
        "net = models.Sequential()\n",
        "net.add(layers.Dense(16, activation='relu', input_shape=(10000,)))\n",
        "net.add(layers.Dropout(0.5))\n",
        "net.add(layers.Dense(16, activation='relu'))\n",
        "net.add(layers.Dropout(0.5))\n",
        "net.add(layers.Dense(1, activation='sigmoid'))\n",
        "net.compile(optimizer='nadam', loss='binary_crossentropy', metrics = ['acc'])\n",
        "\n",
        "X_val = X_train[:10000]\n",
        "partial_X_train = X_train[10000:]\n",
        "\n",
        "y_val = y_train[:10000]\n",
        "partial_y_train = y_train[10000:]\n",
        "\n",
        "val = net.fit(partial_X_train, partial_y_train, epochs=5, batch_size=128, validation_data=(X_val, y_val))"
      ],
      "execution_count": 5,
      "outputs": [
        {
          "output_type": "stream",
          "text": [
            "Epoch 1/5\n",
            "118/118 [==============================] - 2s 15ms/step - loss: 0.6134 - acc: 0.6639 - val_loss: 0.4381 - val_acc: 0.8438\n",
            "Epoch 2/5\n",
            "118/118 [==============================] - 1s 11ms/step - loss: 0.4021 - acc: 0.8383 - val_loss: 0.3011 - val_acc: 0.8825\n",
            "Epoch 3/5\n",
            "118/118 [==============================] - 1s 12ms/step - loss: 0.3090 - acc: 0.8834 - val_loss: 0.2793 - val_acc: 0.8888\n",
            "Epoch 4/5\n",
            "118/118 [==============================] - 1s 11ms/step - loss: 0.2536 - acc: 0.9090 - val_loss: 0.2960 - val_acc: 0.8874\n",
            "Epoch 5/5\n",
            "118/118 [==============================] - 1s 12ms/step - loss: 0.2078 - acc: 0.9236 - val_loss: 0.3030 - val_acc: 0.8883\n"
          ],
          "name": "stdout"
        }
      ]
    },
    {
      "cell_type": "code",
      "metadata": {
        "colab": {
          "base_uri": "https://localhost:8080/",
          "height": 283
        },
        "id": "EIX7SN_NT-mS",
        "outputId": "69229410-f81e-4df7-fc7e-de6c03a6e592"
      },
      "source": [
        "val_dict = val.history\n",
        "loss = val_dict['loss']\n",
        "val_loss = val_dict['val_loss']\n",
        "x = np.arange(0,len(loss))\n",
        "\n",
        "plt.plot(x,loss,'-')\n",
        "plt.plot(x,val_loss,'o')"
      ],
      "execution_count": 6,
      "outputs": [
        {
          "output_type": "execute_result",
          "data": {
            "text/plain": [
              "[<matplotlib.lines.Line2D at 0x7f23546743c8>]"
            ]
          },
          "metadata": {
            "tags": []
          },
          "execution_count": 6
        },
        {
          "output_type": "display_data",
          "data": {
            "image/png": "[encoded data removed]",
            "text/plain": [
              "<Figure size 432x288 with 1 Axes>"
            ]
          },
          "metadata": {
            "tags": [],
            "needs_background": "light"
          }
        }
      ]
    },
    {
      "cell_type": "code",
      "metadata": {
        "colab": {
          "base_uri": "https://localhost:8080/"
        },
        "id": "zmki9Q5dURXS",
        "outputId": "d51434df-12d8-491e-a05b-f41effd44f54"
      },
      "source": [
        "test_loss, test_acc = net.evaluate(X_test,y_test)"
      ],
      "execution_count": 7,
      "outputs": [
        {
          "output_type": "stream",
          "text": [
            "782/782 [==============================] - 1s 2ms/step - loss: 0.3226 - acc: 0.8776\n"
          ],
          "name": "stdout"
        }
      ]
    },
    {
      "cell_type": "markdown",
      "metadata": {
        "id": "b_QeLntxUTBq"
      },
      "source": [
        "## IMDB Classification using simple RNN"
      ]
    },
    {
      "cell_type": "code",
      "metadata": {
        "id": "7qc_OHefUXJ_"
      },
      "source": [
        "from keras.preprocessing import sequence\n",
        "\n",
        "max_words=10000 \n",
        "(X_train, y_train), (X_test, y_test) = imdb.load_data(num_words=max_words)\n",
        "\n",
        "maxlen = 100 \n",
        "X_train = sequence.pad_sequences(X_train, maxlen=maxlen)\n",
        "X_test = sequence.pad_sequences(X_test, maxlen=maxlen)"
      ],
      "execution_count": 10,
      "outputs": []
    },
    {
      "cell_type": "code",
      "metadata": {
        "colab": {
          "base_uri": "https://localhost:8080/"
        },
        "id": "Mmzf6NLrUZCs",
        "outputId": "69a4bfac-5edf-4016-b68b-045dbe3b2264"
      },
      "source": [
        "X_train[0]"
      ],
      "execution_count": 11,
      "outputs": [
        {
          "output_type": "execute_result",
          "data": {
            "text/plain": [
              "array([1415,   33,    6,   22,   12,  215,   28,   77,   52,    5,   14,\n",
              "        407,   16,   82,    2,    8,    4,  107,  117, 5952,   15,  256,\n",
              "          4,    2,    7, 3766,    5,  723,   36,   71,   43,  530,  476,\n",
              "         26,  400,  317,   46,    7,    4,    2, 1029,   13,  104,   88,\n",
              "          4,  381,   15,  297,   98,   32, 2071,   56,   26,  141,    6,\n",
              "        194, 7486,   18,    4,  226,   22,   21,  134,  476,   26,  480,\n",
              "          5,  144,   30, 5535,   18,   51,   36,   28,  224,   92,   25,\n",
              "        104,    4,  226,   65,   16,   38, 1334,   88,   12,   16,  283,\n",
              "          5,   16, 4472,  113,  103,   32,   15,   16, 5345,   19,  178,\n",
              "         32], dtype=int32)"
            ]
          },
          "metadata": {
            "tags": []
          },
          "execution_count": 11
        }
      ]
    },
    {
      "cell_type": "code",
      "metadata": {
        "id": "4SHLdPZjUbD2",
        "colab": {
          "base_uri": "https://localhost:8080/"
        },
        "outputId": "04aa4443-ba62-41de-c7ba-d5643d2452a0"
      },
      "source": [
        "rnn = models.Sequential()\n",
        "rnn.add(layers.Embedding(max_words, 16))\n",
        "rnn.add(layers.SimpleRNN(32,return_sequences='True')) \n",
        "rnn.add(layers.Dropout(0.5))\n",
        "rnn.add(layers.SimpleRNN(16,activation = 'relu'))\n",
        "rnn.add(layers.Dropout(0.5))\n",
        "rnn.add(layers.Dense(1,activation = 'sigmoid'))\n",
        "rnn.compile(optimizer = 'nadam',loss = 'binary_crossentropy',metrics = ['acc'])\n",
        "rnn.summary()"
      ],
      "execution_count": 24,
      "outputs": [
        {
          "output_type": "stream",
          "text": [
            "Model: \"sequential_2\"\n",
            "_________________________________________________________________\n",
            "Layer (type)                 Output Shape              Param #   \n",
            "=================================================================\n",
            "embedding_1 (Embedding)      (None, None, 16)          160000    \n",
            "_________________________________________________________________\n",
            "simple_rnn_1 (SimpleRNN)     (None, None, 32)          1568      \n",
            "_________________________________________________________________\n",
            "dropout_2 (Dropout)          (None, None, 32)          0         \n",
            "_________________________________________________________________\n",
            "simple_rnn_2 (SimpleRNN)     (None, 16)                784       \n",
            "_________________________________________________________________\n",
            "dropout_3 (Dropout)          (None, 16)                0         \n",
            "_________________________________________________________________\n",
            "dense_3 (Dense)              (None, 1)                 17        \n",
            "=================================================================\n",
            "Total params: 162,369\n",
            "Trainable params: 162,369\n",
            "Non-trainable params: 0\n",
            "_________________________________________________________________\n"
          ],
          "name": "stdout"
        }
      ]
    },
    {
      "cell_type": "code",
      "metadata": {
        "colab": {
          "base_uri": "https://localhost:8080/"
        },
        "id": "HhIm1IyXVCXY",
        "outputId": "5553b5bf-dfa5-4598-c4df-65e8e1fba4d0"
      },
      "source": [
        "history = rnn.fit(X_train,y_train,epochs = 10 ,batch_size = 128,verbose=1,validation_split = 0.2)"
      ],
      "execution_count": 25,
      "outputs": [
        {
          "output_type": "stream",
          "text": [
            "Epoch 1/10\n",
            "157/157 [==============================] - 9s 59ms/step - loss: 0.6950 - acc: 0.5110 - val_loss: 0.6917 - val_acc: 0.5356\n",
            "Epoch 2/10\n",
            "157/157 [==============================] - 9s 57ms/step - loss: 0.6810 - acc: 0.5562 - val_loss: 0.6421 - val_acc: 0.6618\n",
            "Epoch 3/10\n",
            "157/157 [==============================] - 9s 56ms/step - loss: 0.5001 - acc: 0.7707 - val_loss: 0.4078 - val_acc: 0.8168\n",
            "Epoch 4/10\n",
            "157/157 [==============================] - 9s 56ms/step - loss: 0.3653 - acc: 0.8599 - val_loss: 0.4122 - val_acc: 0.8280\n",
            "Epoch 5/10\n",
            "157/157 [==============================] - 9s 56ms/step - loss: 0.3001 - acc: 0.8945 - val_loss: 0.4168 - val_acc: 0.8330\n",
            "Epoch 6/10\n",
            "157/157 [==============================] - 10s 62ms/step - loss: 0.2491 - acc: 0.9158 - val_loss: 0.4323 - val_acc: 0.8258\n",
            "Epoch 7/10\n",
            "157/157 [==============================] - 10s 61ms/step - loss: 0.2011 - acc: 0.9351 - val_loss: 0.5014 - val_acc: 0.7950\n",
            "Epoch 8/10\n",
            "157/157 [==============================] - 9s 58ms/step - loss: 0.1625 - acc: 0.9507 - val_loss: 0.5433 - val_acc: 0.8274\n",
            "Epoch 9/10\n",
            "157/157 [==============================] - 9s 55ms/step - loss: 0.1263 - acc: 0.9614 - val_loss: 0.7590 - val_acc: 0.8154\n",
            "Epoch 10/10\n",
            "157/157 [==============================] - 9s 55ms/step - loss: 0.1023 - acc: 0.9717 - val_loss: 0.6510 - val_acc: 0.8136\n"
          ],
          "name": "stdout"
        }
      ]
    }
  ]
}