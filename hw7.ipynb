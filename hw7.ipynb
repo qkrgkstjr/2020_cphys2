{
  "nbformat": 4,
  "nbformat_minor": 0,
  "metadata": {
    "colab": {
      "name": "hw7",
      "provenance": [],
      "collapsed_sections": [],
      "authorship_tag": "ABX9TyP8Uwk2NN2MMFIQanr+X7Ou"
    },
    "kernelspec": {
      "name": "python3",
      "display_name": "Python 3"
    }
  },
  "cells": [
    {
      "cell_type": "markdown",
      "metadata": {
        "id": "-mCjme-Rjo1y"
      },
      "source": [
        "# MNIST\n",
        "#### MNIST 손글씨 이미지를 다음의 방법으로 분류하고 test data를 이용하여 정확도를 비교하여라.\n",
        "1. Softmax Regression\n",
        "2. Support Vector Machine\n",
        "3. Decision tree or Random forest"
      ]
    },
    {
      "cell_type": "markdown",
      "metadata": {
        "id": "tPwB1jUUpdKY"
      },
      "source": [
        "#### 1. Softmax Regression"
      ]
    },
    {
      "cell_type": "code",
      "metadata": {
        "id": "1x0sGECxjurk"
      },
      "source": [
        "from keras.datasets import mnist\n",
        "from tensorflow import keras\n",
        "from keras import models \n",
        "from keras import layers\n",
        "import numpy as np\n",
        "import matplotlib.pyplot as plt\n",
        "from keras.utils import to_categorical\n",
        "\n",
        "(X, y), (Xtest, y_test) = mnist.load_data()"
      ],
      "execution_count": 34,
      "outputs": []
    },
    {
      "cell_type": "code",
      "metadata": {
        "id": "__h3ZY94jwE4"
      },
      "source": [
        "y_train=to_categorical(y)\n",
        "y_test=to_categorical(y_test)"
      ],
      "execution_count": 35,
      "outputs": []
    },
    {
      "cell_type": "code",
      "metadata": {
        "id": "pC2U5DrXj9Xn"
      },
      "source": [
        "net = models.Sequential()\n",
        "net.add(layers.Dense(10, activation='softmax', input_shape=(28*28,)))\n",
        "net.compile(optimizer='sgd',loss='categorical_crossentropy',metrics=['accuracy'])"
      ],
      "execution_count": 36,
      "outputs": []
    },
    {
      "cell_type": "code",
      "metadata": {
        "id": "br4IhPyjkLGv"
      },
      "source": [
        "X_train = X.reshape((60000, 28*28))\n",
        "X_train = X_train/255\n",
        "\n",
        "X_test = Xtest.reshape((10000, 28*28))\n",
        "X_test = X_test/255"
      ],
      "execution_count": 37,
      "outputs": []
    },
    {
      "cell_type": "code",
      "metadata": {
        "id": "PIvl0Mw0ocqo",
        "outputId": "97aad358-895e-4cb1-f846-5b97ee9a64c2",
        "colab": {
          "base_uri": "https://localhost:8080/",
          "height": 1000
        }
      },
      "source": [
        "net.fit(X_train, y_train, epochs=30)"
      ],
      "execution_count": 62,
      "outputs": [
        {
          "output_type": "stream",
          "text": [
            "Epoch 1/30\n",
            "1875/1875 [==============================] - 2s 985us/step - loss: 0.2933 - accuracy: 0.9184\n",
            "Epoch 2/30\n",
            "1875/1875 [==============================] - 2s 976us/step - loss: 0.2919 - accuracy: 0.9188\n",
            "Epoch 3/30\n",
            "1875/1875 [==============================] - 2s 979us/step - loss: 0.2907 - accuracy: 0.9191\n",
            "Epoch 4/30\n",
            "1875/1875 [==============================] - 2s 973us/step - loss: 0.2895 - accuracy: 0.9192\n",
            "Epoch 5/30\n",
            "1875/1875 [==============================] - 2s 967us/step - loss: 0.2882 - accuracy: 0.9194\n",
            "Epoch 6/30\n",
            "1875/1875 [==============================] - 2s 976us/step - loss: 0.2871 - accuracy: 0.9201\n",
            "Epoch 7/30\n",
            "1875/1875 [==============================] - 2s 963us/step - loss: 0.2861 - accuracy: 0.9204\n",
            "Epoch 8/30\n",
            "1875/1875 [==============================] - 2s 983us/step - loss: 0.2851 - accuracy: 0.9204\n",
            "Epoch 9/30\n",
            "1875/1875 [==============================] - 2s 977us/step - loss: 0.2841 - accuracy: 0.9211\n",
            "Epoch 10/30\n",
            "1875/1875 [==============================] - 2s 973us/step - loss: 0.2832 - accuracy: 0.9212\n",
            "Epoch 11/30\n",
            "1875/1875 [==============================] - 2s 979us/step - loss: 0.2823 - accuracy: 0.9213\n",
            "Epoch 12/30\n",
            "1875/1875 [==============================] - 2s 985us/step - loss: 0.2815 - accuracy: 0.9215\n",
            "Epoch 13/30\n",
            "1875/1875 [==============================] - 2s 986us/step - loss: 0.2807 - accuracy: 0.9219\n",
            "Epoch 14/30\n",
            "1875/1875 [==============================] - 2s 986us/step - loss: 0.2800 - accuracy: 0.9222\n",
            "Epoch 15/30\n",
            "1875/1875 [==============================] - 2s 979us/step - loss: 0.2793 - accuracy: 0.9223\n",
            "Epoch 16/30\n",
            "1875/1875 [==============================] - 2s 1ms/step - loss: 0.2786 - accuracy: 0.9222\n",
            "Epoch 17/30\n",
            "1875/1875 [==============================] - 2s 1ms/step - loss: 0.2779 - accuracy: 0.9226\n",
            "Epoch 18/30\n",
            "1875/1875 [==============================] - 2s 1ms/step - loss: 0.2772 - accuracy: 0.9232\n",
            "Epoch 19/30\n",
            "1875/1875 [==============================] - 2s 1ms/step - loss: 0.2766 - accuracy: 0.9231\n",
            "Epoch 20/30\n",
            "1875/1875 [==============================] - 2s 1ms/step - loss: 0.2760 - accuracy: 0.9230\n",
            "Epoch 21/30\n",
            "1875/1875 [==============================] - 2s 1ms/step - loss: 0.2754 - accuracy: 0.9233\n",
            "Epoch 22/30\n",
            "1875/1875 [==============================] - 2s 1ms/step - loss: 0.2749 - accuracy: 0.9240\n",
            "Epoch 23/30\n",
            "1875/1875 [==============================] - 2s 1ms/step - loss: 0.2744 - accuracy: 0.9237\n",
            "Epoch 24/30\n",
            "1875/1875 [==============================] - 2s 1ms/step - loss: 0.2739 - accuracy: 0.9243\n",
            "Epoch 25/30\n",
            "1875/1875 [==============================] - 2s 1ms/step - loss: 0.2733 - accuracy: 0.9242\n",
            "Epoch 26/30\n",
            "1875/1875 [==============================] - 2s 1ms/step - loss: 0.2728 - accuracy: 0.9244\n",
            "Epoch 27/30\n",
            "1875/1875 [==============================] - 2s 1ms/step - loss: 0.2724 - accuracy: 0.9241\n",
            "Epoch 28/30\n",
            "1875/1875 [==============================] - 2s 1ms/step - loss: 0.2719 - accuracy: 0.9241\n",
            "Epoch 29/30\n",
            "1875/1875 [==============================] - 2s 1ms/step - loss: 0.2714 - accuracy: 0.9245\n",
            "Epoch 30/30\n",
            "1875/1875 [==============================] - 2s 1ms/step - loss: 0.2710 - accuracy: 0.9249\n"
          ],
          "name": "stdout"
        },
        {
          "output_type": "execute_result",
          "data": {
            "text/plain": [
              "<tensorflow.python.keras.callbacks.History at 0x7f8ef22787f0>"
            ]
          },
          "metadata": {
            "tags": []
          },
          "execution_count": 62
        }
      ]
    },
    {
      "cell_type": "code",
      "metadata": {
        "id": "bGuhNHzzohn7",
        "outputId": "9d198449-c331-4982-d6ea-9da63c78cbc2",
        "colab": {
          "base_uri": "https://localhost:8080/",
          "height": 53
        }
      },
      "source": [
        "net.evaluate(X_test,y_test)"
      ],
      "execution_count": 64,
      "outputs": [
        {
          "output_type": "stream",
          "text": [
            "313/313 [==============================] - 0s 838us/step - loss: 0.2737 - accuracy: 0.9213\n"
          ],
          "name": "stdout"
        },
        {
          "output_type": "execute_result",
          "data": {
            "text/plain": [
              "[0.2736746370792389, 0.9212999939918518]"
            ]
          },
          "metadata": {
            "tags": []
          },
          "execution_count": 64
        }
      ]
    },
    {
      "cell_type": "markdown",
      "metadata": {
        "id": "biOeb41FowC9"
      },
      "source": [
        "#### 2. Support Vector Machine"
      ]
    },
    {
      "cell_type": "code",
      "metadata": {
        "id": "nZpbkDpJqTxb"
      },
      "source": [
        "from sklearn.svm import SVC\n",
        "\n",
        "(X_svm, y_svm), (X_testsvm, y_testsvm) = mnist.load_data()\n",
        "\n",
        "X_svm = X_svm.reshape((60000, 28*28))\n",
        "X_svm = X_svm/255\n",
        "\n",
        "X_testsvm = X_testsvm.reshape((10000, 28*28))\n",
        "X_testsvm = X_testsvm/255"
      ],
      "execution_count": 65,
      "outputs": []
    },
    {
      "cell_type": "code",
      "metadata": {
        "id": "kEQQGMQyqnAQ",
        "outputId": "3aac454a-261d-46fc-846e-bf8410fdbe17",
        "colab": {
          "base_uri": "https://localhost:8080/",
          "height": 89
        }
      },
      "source": [
        "svm=SVC(kernel='linear',gamma='auto')\n",
        "svm.fit(X_svm,y_svm)"
      ],
      "execution_count": 41,
      "outputs": [
        {
          "output_type": "execute_result",
          "data": {
            "text/plain": [
              "SVC(C=1.0, break_ties=False, cache_size=200, class_weight=None, coef0=0.0,\n",
              "    decision_function_shape='ovr', degree=3, gamma='auto', kernel='linear',\n",
              "    max_iter=-1, probability=False, random_state=None, shrinking=True,\n",
              "    tol=0.001, verbose=False)"
            ]
          },
          "metadata": {
            "tags": []
          },
          "execution_count": 41
        }
      ]
    },
    {
      "cell_type": "code",
      "metadata": {
        "id": "VOZtaQVY-6bL",
        "outputId": "b814c483-520d-4d68-a0ea-6ccd314a1cf8",
        "colab": {
          "base_uri": "https://localhost:8080/",
          "height": 35
        }
      },
      "source": [
        "from sklearn.metrics import accuracy_score\n",
        "\n",
        "y_predsvm = svm.predict(X_testsvm)\n",
        "accuracy_score(y_predsvm, y_testsvm)"
      ],
      "execution_count": 42,
      "outputs": [
        {
          "output_type": "execute_result",
          "data": {
            "text/plain": [
              "0.9404"
            ]
          },
          "metadata": {
            "tags": []
          },
          "execution_count": 42
        }
      ]
    },
    {
      "cell_type": "markdown",
      "metadata": {
        "id": "2ebyIK1B7FOw"
      },
      "source": [
        "#### 3. Random Forest"
      ]
    },
    {
      "cell_type": "code",
      "metadata": {
        "id": "CuoCxnqY8Eax"
      },
      "source": [
        "from sklearn.ensemble import RandomForestClassifier\n",
        "from sklearn import tree\n",
        "\n",
        "(X_RF, y_RF), (X_testRF, y_testRF) = mnist.load_data()\n",
        "\n",
        "X_RF = X_RF.reshape((60000, 28*28))\n",
        "X_RF = X_RF/255\n",
        "\n",
        "X_testRF = X_testRF.reshape((10000, 28*28))\n",
        "X_testRF = X_testRF/255"
      ],
      "execution_count": 45,
      "outputs": []
    },
    {
      "cell_type": "code",
      "metadata": {
        "id": "xk72LnGTHxoz",
        "outputId": "e0aeb251-34fa-4503-e2e0-61c946eb4055",
        "colab": {
          "base_uri": "https://localhost:8080/",
          "height": 161
        }
      },
      "source": [
        "clf  =  RandomForestClassifier(n_estimators = 200)\n",
        "clf.fit(X_RF,y_RF)"
      ],
      "execution_count": 60,
      "outputs": [
        {
          "output_type": "execute_result",
          "data": {
            "text/plain": [
              "RandomForestClassifier(bootstrap=True, ccp_alpha=0.0, class_weight=None,\n",
              "                       criterion='gini', max_depth=None, max_features='auto',\n",
              "                       max_leaf_nodes=None, max_samples=None,\n",
              "                       min_impurity_decrease=0.0, min_impurity_split=None,\n",
              "                       min_samples_leaf=1, min_samples_split=2,\n",
              "                       min_weight_fraction_leaf=0.0, n_estimators=200,\n",
              "                       n_jobs=None, oob_score=False, random_state=None,\n",
              "                       verbose=0, warm_start=False)"
            ]
          },
          "metadata": {
            "tags": []
          },
          "execution_count": 60
        }
      ]
    },
    {
      "cell_type": "code",
      "metadata": {
        "id": "7gPFZGf786HQ",
        "outputId": "3f91f8cd-92e8-4e4f-ea5b-69f217b9927c",
        "colab": {
          "base_uri": "https://localhost:8080/",
          "height": 35
        }
      },
      "source": [
        "y_predRF = clf.predict(X_testRF)\n",
        "accuracy_score(y_predRF, y_testRF)"
      ],
      "execution_count": 61,
      "outputs": [
        {
          "output_type": "execute_result",
          "data": {
            "text/plain": [
              "0.9707"
            ]
          },
          "metadata": {
            "tags": []
          },
          "execution_count": 61
        }
      ]
    },
    {
      "cell_type": "markdown",
      "metadata": {
        "id": "DpEZvRnY9lzl"
      },
      "source": [
        "손글씨 이미지를 Softmax Regression, Support Vector Machine, Random Forest를 통하여 분류하고 test data를 이용하여 정확도를 비교하였다.\n",
        "1. Softmax Regression\n",
        "- epochs의 횟수를 바꿔가며 모델의 분류 정확도를 높일 수 있는데, epochs 숫자를 늘릴수록 accuracy값이 높아지긴 하지만 아주 미세한 값 만큼 증가했다. 하지만 비교적 빠른 시간 내에 피팅이 마무리 되었고, 데이터를 통해 loss 함수를 정의하여  알고리즘을 값을 최소화 하는 절차를 확인할 수 있었다.\n",
        "\n",
        "2. Support Vector Machine\n",
        "- 가장 시간이 오래 걸린 방법이었다. 하지만 그에 비해 accuracy가 낮은 편이다. support vector를 찾을 때 그룹을 분리하게되는데 그 점이 accuracy를 결정하는 요소중에 하나이므로 그룹간의 분리가 명확하지 않아서 Support Vector Machine 방식이 시간적 가성비가 나쁘다고 생각된다.\n",
        "\n",
        "3. Random Forest\n",
        "- 진행 시간도 빨랐고, accuracy가 가장 높은 방법이었다. n_estimators와 DecisionTreeClassifier의 max_depth를 통해 accuracy를 높일 수 있다. 여기에서는 max_depth를 조절하진 않았지만 30까지 했을 때보다 입력하지 않은 채 default값으로 진행했을 때가 accuracy가 높게 나와서 입력하진 않았다.\n",
        "\n",
        "sklearn에서 사용한 accuracy score와 tensorflow의 evaluate의 정확한 차이는 확인할 수 없었지만, Support Vector Machine와 Random Forest에서 사용하는 방법을 찾지 못해서 이대로 진행했습니다. 차이점을 알 수 있다면 알려주셨으면 좋겠습니다."
      ]
    },
    {
      "cell_type": "code",
      "metadata": {
        "id": "fKvKypmaQ2G8"
      },
      "source": [
        ""
      ],
      "execution_count": null,
      "outputs": []
    }
  ]
}