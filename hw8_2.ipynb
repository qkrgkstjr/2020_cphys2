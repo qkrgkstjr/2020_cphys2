{
  "nbformat": 4,
  "nbformat_minor": 0,
  "metadata": {
    "colab": {
      "name": "hw8_2",
      "provenance": [],
      "collapsed_sections": [],
      "authorship_tag": "ABX9TyNRcktMcNF0ZatepuLngLs6"
    },
    "kernelspec": {
      "name": "python3",
      "display_name": "Python 3"
    }
  },
  "cells": [
    {
      "cell_type": "markdown",
      "metadata": {
        "id": "kMILD_w4_mBw"
      },
      "source": [
        "# 2. Fashin MNIST\n",
        "#### MNIST 패션 이미지를 딥러닝을 이용하여 분류하시오.\n",
        "- MNIST 패션데이터는 10종류의 60000개 패션 학습데이터와 10000개의 테스트 데이터로 구성되어 있습니다. \n",
        "- 각각의 레이블의 의미는 다음과 같습니다.\n",
        "\n",
        "|Label|Description|\n",
        "|:-:|:-:|\n",
        "|0|T-shirt/top|\n",
        "|1|Trouser|\n",
        "|2|Pullover|\n",
        "|3|Dress|\n",
        "|4|Coat|\n",
        "|5|Sandal|\n",
        "|6|\tShirt|\n",
        "|7|\tSneaker|\n",
        "|8|\tBag|\n",
        "|9|\tAnkle boot|\n"
      ]
    },
    {
      "cell_type": "code",
      "metadata": {
        "id": "XA-UF4x__tel"
      },
      "source": [
        "from keras.datasets import fashion_mnist\n",
        "from tensorflow import keras\n",
        "from keras import models \n",
        "from keras import layers\n",
        "import numpy as np\n",
        "import matplotlib.pyplot as plt\n",
        "from keras.utils import to_categorical\n",
        "\n",
        "(X_train, y_train), (X_test, y_test) = fashion_mnist.load_data()"
      ],
      "execution_count": 39,
      "outputs": []
    },
    {
      "cell_type": "code",
      "metadata": {
        "id": "2kWklzVu_vjY",
        "outputId": "4a0462ce-a5b1-4496-c8f6-d26c30d70591",
        "colab": {
          "base_uri": "https://localhost:8080/",
          "height": 283
        }
      },
      "source": [
        "y[0], plt.imshow(X[0],cmap=plt.cm.binary)"
      ],
      "execution_count": 40,
      "outputs": [
        {
          "output_type": "execute_result",
          "data": {
            "text/plain": [
              "(9, <matplotlib.image.AxesImage at 0x7f901b61a940>)"
            ]
          },
          "metadata": {
            "tags": []
          },
          "execution_count": 40
        },
        {
          "output_type": "display_data",
          "data": {
            "image/png": "[encoded data removed]",
            "text/plain": [
              "<Figure size 432x288 with 1 Axes>"
            ]
          },
          "metadata": {
            "tags": [],
            "needs_background": "light"
          }
        }
      ]
    },
    {
      "cell_type": "code",
      "metadata": {
        "id": "qjYkdXYL_xF0",
        "outputId": "3652d93e-7b50-4532-b8de-6727c214bf27",
        "colab": {
          "base_uri": "https://localhost:8080/",
          "height": 283
        }
      },
      "source": [
        "y[1], plt.imshow(X[1],cmap=plt.cm.binary)"
      ],
      "execution_count": 41,
      "outputs": [
        {
          "output_type": "execute_result",
          "data": {
            "text/plain": [
              "(0, <matplotlib.image.AxesImage at 0x7f901a070d68>)"
            ]
          },
          "metadata": {
            "tags": []
          },
          "execution_count": 41
        },
        {
          "output_type": "display_data",
          "data": {
            "image/png": "[encoded data removed]",
            "text/plain": [
              "<Figure size 432x288 with 1 Axes>"
            ]
          },
          "metadata": {
            "tags": [],
            "needs_background": "light"
          }
        }
      ]
    },
    {
      "cell_type": "code",
      "metadata": {
        "id": "0GM5UU1H_zF9"
      },
      "source": [
        "y_train=to_categorical(y_train)\n",
        "y_test=to_categorical(y_test)"
      ],
      "execution_count": 42,
      "outputs": []
    },
    {
      "cell_type": "code",
      "metadata": {
        "id": "eIL-9mWWAU7U"
      },
      "source": [
        "net = models.Sequential()\n",
        "net.add(layers.Dense(512, activation='relu', input_shape=(28*28,)))\n",
        "net.add(layers.Dense(512, activation='relu')) \n",
        "net.add(layers.Dense(512, activation='relu'))\n",
        "net.add(layers.Dense(10, activation='softmax'))\n",
        "net.compile(optimizer='nadam',loss='categorical_crossentropy',metrics=['accuracy'])\n",
        "\n",
        "# preprocessing\n",
        "X_train = X_train.reshape((60000, 28*28))\n",
        "X_train = X_train/255\n",
        "\n",
        "X_test = X_test.reshape((10000, 28*28))\n",
        "X_test = X_test/255"
      ],
      "execution_count": 43,
      "outputs": []
    },
    {
      "cell_type": "code",
      "metadata": {
        "id": "7hH1JidpAZYQ",
        "outputId": "725b13db-9e13-45b8-a203-659bfc728e99",
        "colab": {
          "base_uri": "https://localhost:8080/"
        }
      },
      "source": [
        "net.fit(X_train, y_train, epochs=5, batch_size=128)"
      ],
      "execution_count": 44,
      "outputs": [
        {
          "output_type": "stream",
          "text": [
            "Epoch 1/5\n",
            "469/469 [==============================] - 16s 35ms/step - loss: 0.5016 - accuracy: 0.8158\n",
            "Epoch 2/5\n",
            "469/469 [==============================] - 12s 25ms/step - loss: 0.3507 - accuracy: 0.8722\n",
            "Epoch 3/5\n",
            "469/469 [==============================] - 12s 25ms/step - loss: 0.3052 - accuracy: 0.8863\n",
            "Epoch 4/5\n",
            "469/469 [==============================] - 12s 25ms/step - loss: 0.2808 - accuracy: 0.8952\n",
            "Epoch 5/5\n",
            "469/469 [==============================] - 12s 25ms/step - loss: 0.2612 - accuracy: 0.9015\n"
          ],
          "name": "stdout"
        },
        {
          "output_type": "execute_result",
          "data": {
            "text/plain": [
              "<tensorflow.python.keras.callbacks.History at 0x7f9019fd5e10>"
            ]
          },
          "metadata": {
            "tags": []
          },
          "execution_count": 44
        }
      ]
    },
    {
      "cell_type": "code",
      "metadata": {
        "id": "6rwquM0AAaaG",
        "outputId": "74590434-a99a-43be-af61-9a8af2d20e31",
        "colab": {
          "base_uri": "https://localhost:8080/"
        }
      },
      "source": [
        "test_loss, test_acc = net.evaluate(X_test,y_test)"
      ],
      "execution_count": 45,
      "outputs": [
        {
          "output_type": "stream",
          "text": [
            "313/313 [==============================] - 1s 3ms/step - loss: 0.3305 - accuracy: 0.8842\n"
          ],
          "name": "stdout"
        }
      ]
    },
    {
      "cell_type": "code",
      "metadata": {
        "id": "0N2xCqpLAdBr"
      },
      "source": [
        "X_val = X_train[:10000]\n",
        "partial_X_train = X_train[10000:]\n",
        "\n",
        "y_val = y_train[:10000]\n",
        "partial_y_train = y_train[10000:]"
      ],
      "execution_count": 46,
      "outputs": []
    },
    {
      "cell_type": "code",
      "metadata": {
        "id": "iVcmxR52AdW1",
        "outputId": "d3eed28f-d5cf-4f73-dc17-a91fd6e951a9",
        "colab": {
          "base_uri": "https://localhost:8080/"
        }
      },
      "source": [
        "val= net.fit(partial_X_train,partial_y_train,epochs=20, batch_size=128, validation_data=(X_val, y_val),verbose=1)"
      ],
      "execution_count": 47,
      "outputs": [
        {
          "output_type": "stream",
          "text": [
            "Epoch 1/20\n",
            "391/391 [==============================] - 10s 27ms/step - loss: 0.2419 - accuracy: 0.9088 - val_loss: 0.2347 - val_accuracy: 0.9107\n",
            "Epoch 2/20\n",
            "391/391 [==============================] - 11s 27ms/step - loss: 0.2310 - accuracy: 0.9117 - val_loss: 0.2512 - val_accuracy: 0.9045\n",
            "Epoch 3/20\n",
            "391/391 [==============================] - 11s 27ms/step - loss: 0.2193 - accuracy: 0.9164 - val_loss: 0.2567 - val_accuracy: 0.9017\n",
            "Epoch 4/20\n",
            "391/391 [==============================] - 11s 27ms/step - loss: 0.2072 - accuracy: 0.9207 - val_loss: 0.2449 - val_accuracy: 0.9067\n",
            "Epoch 5/20\n",
            "391/391 [==============================] - 11s 27ms/step - loss: 0.1963 - accuracy: 0.9251 - val_loss: 0.2533 - val_accuracy: 0.9055\n",
            "Epoch 6/20\n",
            "391/391 [==============================] - 10s 27ms/step - loss: 0.1845 - accuracy: 0.9291 - val_loss: 0.2561 - val_accuracy: 0.9072\n",
            "Epoch 7/20\n",
            "391/391 [==============================] - 10s 27ms/step - loss: 0.1742 - accuracy: 0.9331 - val_loss: 0.2709 - val_accuracy: 0.9012\n",
            "Epoch 8/20\n",
            "391/391 [==============================] - 10s 27ms/step - loss: 0.1667 - accuracy: 0.9369 - val_loss: 0.2711 - val_accuracy: 0.9038\n",
            "Epoch 9/20\n",
            "391/391 [==============================] - 10s 27ms/step - loss: 0.1612 - accuracy: 0.9369 - val_loss: 0.2871 - val_accuracy: 0.9018\n",
            "Epoch 10/20\n",
            "391/391 [==============================] - 10s 27ms/step - loss: 0.1526 - accuracy: 0.9404 - val_loss: 0.2670 - val_accuracy: 0.9095\n",
            "Epoch 11/20\n",
            "391/391 [==============================] - 10s 27ms/step - loss: 0.1462 - accuracy: 0.9432 - val_loss: 0.2808 - val_accuracy: 0.9027\n",
            "Epoch 12/20\n",
            "391/391 [==============================] - 10s 27ms/step - loss: 0.1397 - accuracy: 0.9456 - val_loss: 0.3180 - val_accuracy: 0.9008\n",
            "Epoch 13/20\n",
            "391/391 [==============================] - 10s 27ms/step - loss: 0.1307 - accuracy: 0.9493 - val_loss: 0.2995 - val_accuracy: 0.9049\n",
            "Epoch 14/20\n",
            "391/391 [==============================] - 10s 27ms/step - loss: 0.1248 - accuracy: 0.9513 - val_loss: 0.2826 - val_accuracy: 0.9101\n",
            "Epoch 15/20\n",
            "391/391 [==============================] - 10s 27ms/step - loss: 0.1191 - accuracy: 0.9543 - val_loss: 0.2957 - val_accuracy: 0.9092\n",
            "Epoch 16/20\n",
            "391/391 [==============================] - 11s 27ms/step - loss: 0.1135 - accuracy: 0.9558 - val_loss: 0.3151 - val_accuracy: 0.9087\n",
            "Epoch 17/20\n",
            "391/391 [==============================] - 11s 27ms/step - loss: 0.1069 - accuracy: 0.9584 - val_loss: 0.3203 - val_accuracy: 0.9064\n",
            "Epoch 18/20\n",
            "391/391 [==============================] - 10s 27ms/step - loss: 0.1065 - accuracy: 0.9592 - val_loss: 0.3334 - val_accuracy: 0.9064\n",
            "Epoch 19/20\n",
            "391/391 [==============================] - 10s 27ms/step - loss: 0.0987 - accuracy: 0.9608 - val_loss: 0.3495 - val_accuracy: 0.9028\n",
            "Epoch 20/20\n",
            "391/391 [==============================] - 10s 27ms/step - loss: 0.0998 - accuracy: 0.9618 - val_loss: 0.3374 - val_accuracy: 0.9111\n"
          ],
          "name": "stdout"
        }
      ]
    },
    {
      "cell_type": "code",
      "metadata": {
        "id": "oxzQc63rAds2"
      },
      "source": [
        "val_dict = val.history\n",
        "loss = val_dict['loss']\n",
        "val_loss = val_dict['val_loss']"
      ],
      "execution_count": 48,
      "outputs": []
    },
    {
      "cell_type": "code",
      "metadata": {
        "id": "s2y9Kg8kAdwI",
        "outputId": "320384df-66d9-44c0-efcc-a2cf3a8eac8d",
        "colab": {
          "base_uri": "https://localhost:8080/",
          "height": 283
        }
      },
      "source": [
        "x = np.arange(0,len(loss))\n",
        "plt.plot(x,loss,'b.',label='E')\n",
        "plt.plot(x,val_loss,'r.',label='$E_v$')\n",
        "plt.legend()"
      ],
      "execution_count": 50,
      "outputs": [
        {
          "output_type": "execute_result",
          "data": {
            "text/plain": [
              "<matplotlib.legend.Legend at 0x7f9019dafbe0>"
            ]
          },
          "metadata": {
            "tags": []
          },
          "execution_count": 50
        },
        {
          "output_type": "display_data",
          "data": {
            "image/png": "[encoded data removed]",
            "text/plain": [
              "<Figure size 432x288 with 1 Axes>"
            ]
          },
          "metadata": {
            "tags": [],
            "needs_background": "light"
          }
        }
      ]
    },
    {
      "cell_type": "code",
      "metadata": {
        "id": "SI9JEnghAdy6",
        "outputId": "19eb9fd0-939c-4447-9b42-db79523dadde",
        "colab": {
          "base_uri": "https://localhost:8080/",
          "height": 283
        }
      },
      "source": [
        "acc = val_dict['accuracy']\n",
        "val_acc = val_dict['val_accuracy']\n",
        "plt.plot(x,acc,'b.',label='Accuracy')\n",
        "plt.plot(x,val_acc,'r.',label='A_v')"
      ],
      "execution_count": 52,
      "outputs": [
        {
          "output_type": "execute_result",
          "data": {
            "text/plain": [
              "[<matplotlib.lines.Line2D at 0x7f9018cb7978>]"
            ]
          },
          "metadata": {
            "tags": []
          },
          "execution_count": 52
        },
        {
          "output_type": "display_data",
          "data": {
            "image/png": "[encoded data removed]",
            "text/plain": [
              "<Figure size 432x288 with 1 Axes>"
            ]
          },
          "metadata": {
            "tags": [],
            "needs_background": "light"
          }
        }
      ]
    },
    {
      "cell_type": "code",
      "metadata": {
        "id": "lDYvYKQSAd12"
      },
      "source": [
        "model = models.Sequential()\n",
        "model.add(layers.Dense(512, activation='relu', input_shape=(28*28,))) \n",
        "model.add(layers.Dropout(0.5))  \n",
        "model.add(layers.Dense(512, activation='relu')) \n",
        "model.add(layers.Dropout(0.5))  \n",
        "model.add(layers.Dense(10, activation='softmax')) \n",
        "model.compile(optimizer='nadam',loss='categorical_crossentropy',metrics=['acc'])"
      ],
      "execution_count": 53,
      "outputs": []
    },
    {
      "cell_type": "code",
      "metadata": {
        "id": "s1PesBawAd41",
        "outputId": "990805d7-db6b-43a2-baf5-4c2f00b297b1",
        "colab": {
          "base_uri": "https://localhost:8080/"
        }
      },
      "source": [
        "val2= model.fit(partial_X_train,partial_y_train,epochs=20, batch_size=128, validation_data=(X_val, y_val),verbose=1)"
      ],
      "execution_count": 54,
      "outputs": [
        {
          "output_type": "stream",
          "text": [
            "Epoch 1/20\n",
            "391/391 [==============================] - 8s 21ms/step - loss: 0.6319 - acc: 0.7730 - val_loss: 0.4320 - val_acc: 0.8394\n",
            "Epoch 2/20\n",
            "391/391 [==============================] - 8s 20ms/step - loss: 0.4530 - acc: 0.8364 - val_loss: 0.3739 - val_acc: 0.8635\n",
            "Epoch 3/20\n",
            "391/391 [==============================] - 8s 20ms/step - loss: 0.4179 - acc: 0.8469 - val_loss: 0.3663 - val_acc: 0.8615\n",
            "Epoch 4/20\n",
            "391/391 [==============================] - 8s 20ms/step - loss: 0.3939 - acc: 0.8561 - val_loss: 0.3404 - val_acc: 0.8771\n",
            "Epoch 5/20\n",
            "391/391 [==============================] - 8s 20ms/step - loss: 0.3819 - acc: 0.8611 - val_loss: 0.3327 - val_acc: 0.8764\n",
            "Epoch 6/20\n",
            "391/391 [==============================] - 8s 20ms/step - loss: 0.3635 - acc: 0.8674 - val_loss: 0.3393 - val_acc: 0.8755\n",
            "Epoch 7/20\n",
            "391/391 [==============================] - 8s 20ms/step - loss: 0.3567 - acc: 0.8692 - val_loss: 0.3218 - val_acc: 0.8842\n",
            "Epoch 8/20\n",
            "391/391 [==============================] - 8s 20ms/step - loss: 0.3481 - acc: 0.8700 - val_loss: 0.3243 - val_acc: 0.8841\n",
            "Epoch 9/20\n",
            "391/391 [==============================] - 8s 20ms/step - loss: 0.3390 - acc: 0.8757 - val_loss: 0.3187 - val_acc: 0.8822\n",
            "Epoch 10/20\n",
            "391/391 [==============================] - 8s 20ms/step - loss: 0.3323 - acc: 0.8779 - val_loss: 0.3259 - val_acc: 0.8798\n",
            "Epoch 11/20\n",
            "391/391 [==============================] - 8s 20ms/step - loss: 0.3289 - acc: 0.8789 - val_loss: 0.3035 - val_acc: 0.8916\n",
            "Epoch 12/20\n",
            "391/391 [==============================] - 8s 20ms/step - loss: 0.3240 - acc: 0.8804 - val_loss: 0.3000 - val_acc: 0.8902\n",
            "Epoch 13/20\n",
            "391/391 [==============================] - 8s 20ms/step - loss: 0.3168 - acc: 0.8835 - val_loss: 0.3046 - val_acc: 0.8895\n",
            "Epoch 14/20\n",
            "391/391 [==============================] - 8s 20ms/step - loss: 0.3105 - acc: 0.8841 - val_loss: 0.2968 - val_acc: 0.8893\n",
            "Epoch 15/20\n",
            "391/391 [==============================] - 8s 20ms/step - loss: 0.3047 - acc: 0.8861 - val_loss: 0.2955 - val_acc: 0.8922\n",
            "Epoch 16/20\n",
            "391/391 [==============================] - 8s 20ms/step - loss: 0.3035 - acc: 0.8873 - val_loss: 0.2996 - val_acc: 0.8895\n",
            "Epoch 17/20\n",
            "391/391 [==============================] - 8s 21ms/step - loss: 0.2985 - acc: 0.8886 - val_loss: 0.2910 - val_acc: 0.8932\n",
            "Epoch 18/20\n",
            "391/391 [==============================] - 8s 21ms/step - loss: 0.2956 - acc: 0.8899 - val_loss: 0.2948 - val_acc: 0.8921\n",
            "Epoch 19/20\n",
            "391/391 [==============================] - 8s 20ms/step - loss: 0.2923 - acc: 0.8907 - val_loss: 0.2941 - val_acc: 0.8948\n",
            "Epoch 20/20\n",
            "391/391 [==============================] - 8s 20ms/step - loss: 0.2922 - acc: 0.8913 - val_loss: 0.2970 - val_acc: 0.8883\n"
          ],
          "name": "stdout"
        }
      ]
    },
    {
      "cell_type": "code",
      "metadata": {
        "id": "2zKkBW4ZAd8R",
        "outputId": "132001d6-89c7-4384-e151-a4ca891914b8",
        "colab": {
          "base_uri": "https://localhost:8080/",
          "height": 283
        }
      },
      "source": [
        "val_dict = val2.history\n",
        "loss = val_dict['loss']\n",
        "val_loss = val_dict['val_loss']\n",
        "\n",
        "x = np.arange(0,len(loss))\n",
        "plt.plot(x,loss,'b.',label='E')\n",
        "plt.plot(x,val_loss,'r.',label='$E_v$')\n",
        "plt.legend()"
      ],
      "execution_count": 55,
      "outputs": [
        {
          "output_type": "execute_result",
          "data": {
            "text/plain": [
              "<matplotlib.legend.Legend at 0x7f90189ba6d8>"
            ]
          },
          "metadata": {
            "tags": []
          },
          "execution_count": 55
        },
        {
          "output_type": "display_data",
          "data": {
            "image/png": "[encoded data removed]",
            "text/plain": [
              "<Figure size 432x288 with 1 Axes>"
            ]
          },
          "metadata": {
            "tags": [],
            "needs_background": "light"
          }
        }
      ]
    },
    {
      "cell_type": "code",
      "metadata": {
        "id": "lvubaiZrAd-7",
        "outputId": "d90f258a-b971-4e9f-9e0a-a2bdb91dec64",
        "colab": {
          "base_uri": "https://localhost:8080/",
          "height": 286
        }
      },
      "source": [
        "acc = val_dict['acc']\n",
        "val_acc = val_dict['val_acc']\n",
        "plt.plot(x,acc,'b.',label='Accuracy')\n",
        "plt.plot(x,val_acc,'r.',label='A_v')"
      ],
      "execution_count": 57,
      "outputs": [
        {
          "output_type": "execute_result",
          "data": {
            "text/plain": [
              "[<matplotlib.lines.Line2D at 0x7f901793a978>]"
            ]
          },
          "metadata": {
            "tags": []
          },
          "execution_count": 57
        },
        {
          "output_type": "display_data",
          "data": {
            "image/png": "[encoded data removed]",
            "text/plain": [
              "<Figure size 432x288 with 1 Axes>"
            ]
          },
          "metadata": {
            "tags": [],
            "needs_background": "light"
          }
        }
      ]
    },
    {
      "cell_type": "code",
      "metadata": {
        "id": "bzXlxtpsAeBu",
        "outputId": "0b5fcdd0-d435-4f5d-cf6b-b55b91e12620",
        "colab": {
          "base_uri": "https://localhost:8080/"
        }
      },
      "source": [
        "test_loss, test_acc = net.evaluate(X_test,y_test)"
      ],
      "execution_count": 58,
      "outputs": [
        {
          "output_type": "stream",
          "text": [
            "313/313 [==============================] - 1s 3ms/step - loss: 0.4535 - accuracy: 0.8947\n"
          ],
          "name": "stdout"
        }
      ]
    },
    {
      "cell_type": "code",
      "metadata": {
        "id": "49FF1DtpAeE-",
        "outputId": "2ed8c7b1-7658-46fc-9af3-f164997a38f1",
        "colab": {
          "base_uri": "https://localhost:8080/"
        }
      },
      "source": [
        "test_loss, test_acc = model.evaluate(X_test,y_test)"
      ],
      "execution_count": 59,
      "outputs": [
        {
          "output_type": "stream",
          "text": [
            "313/313 [==============================] - 1s 2ms/step - loss: 0.3279 - acc: 0.8814\n"
          ],
          "name": "stdout"
        }
      ]
    },
    {
      "cell_type": "code",
      "metadata": {
        "id": "ctzbY6GzJ_Z0"
      },
      "source": [
        ""
      ],
      "execution_count": null,
      "outputs": []
    }
  ]
}