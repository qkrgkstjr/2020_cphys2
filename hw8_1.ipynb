{
  "nbformat": 4,
  "nbformat_minor": 0,
  "metadata": {
    "colab": {
      "name": "hw8_1",
      "provenance": [],
      "collapsed_sections": [],
      "authorship_tag": "ABX9TyNFag041jnai8gaOa/w/9o+"
    },
    "kernelspec": {
      "name": "python3",
      "display_name": "Python 3"
    }
  },
  "cells": [
    {
      "cell_type": "markdown",
      "metadata": {
        "id": "Ov9zdRigTdWz"
      },
      "source": [
        "# 1. MNIST Digits\n",
        "#### MNIST 손글씨 이미지를 딥러닝을 이용하여 분류하시오."
      ]
    },
    {
      "cell_type": "code",
      "metadata": {
        "id": "mv3rZ36cTkR-"
      },
      "source": [
        "from keras.datasets import mnist\n",
        "from tensorflow import keras\n",
        "from keras import models \n",
        "from keras import layers\n",
        "import numpy as np\n",
        "import matplotlib.pyplot as plt\n",
        "from keras.utils import to_categorical\n",
        "\n",
        "(X_train, y_train), (X_test, y_test) = mnist.load_data()"
      ],
      "execution_count": 35,
      "outputs": []
    },
    {
      "cell_type": "code",
      "metadata": {
        "id": "K93vxzYJ7BW0"
      },
      "source": [
        "y_train=to_categorical(y_train)\n",
        "y_test=to_categorical(y_test)"
      ],
      "execution_count": 36,
      "outputs": []
    },
    {
      "cell_type": "code",
      "metadata": {
        "id": "UqrrjuE543uV"
      },
      "source": [
        "net = models.Sequential()\n",
        "net.add(layers.Dense(512, activation='relu', input_shape=(28*28,)))\n",
        "net.add(layers.Dense(512, activation='relu')) \n",
        "net.add(layers.Dense(512, activation='relu'))\n",
        "net.add(layers.Dense(10, activation='softmax'))\n",
        "net.compile(optimizer='nadam',loss='categorical_crossentropy',metrics=['accuracy'])\n",
        "\n",
        "# preprocessing\n",
        "X_train = X_train.reshape((60000, 28*28))\n",
        "X_train = X_train/255\n",
        "\n",
        "X_test = X_test.reshape((10000, 28*28))\n",
        "X_test = X_test/255"
      ],
      "execution_count": 37,
      "outputs": []
    },
    {
      "cell_type": "code",
      "metadata": {
        "id": "ldw0X6QK5bvP",
        "outputId": "75e2c235-86c4-4834-d6a9-34be43bccfe8",
        "colab": {
          "base_uri": "https://localhost:8080/"
        }
      },
      "source": [
        "net.fit(X_train, y_train, epochs=5, batch_size=128)"
      ],
      "execution_count": 38,
      "outputs": [
        {
          "output_type": "stream",
          "text": [
            "Epoch 1/5\n",
            "469/469 [==============================] - 12s 26ms/step - loss: 0.2127 - accuracy: 0.9350\n",
            "Epoch 2/5\n",
            "469/469 [==============================] - 12s 26ms/step - loss: 0.0770 - accuracy: 0.9765\n",
            "Epoch 3/5\n",
            "469/469 [==============================] - 12s 26ms/step - loss: 0.0488 - accuracy: 0.9851\n",
            "Epoch 4/5\n",
            "469/469 [==============================] - 12s 26ms/step - loss: 0.0380 - accuracy: 0.9882\n",
            "Epoch 5/5\n",
            "469/469 [==============================] - 12s 26ms/step - loss: 0.0301 - accuracy: 0.9903\n"
          ],
          "name": "stdout"
        },
        {
          "output_type": "execute_result",
          "data": {
            "text/plain": [
              "<tensorflow.python.keras.callbacks.History at 0x7f4f691dd828>"
            ]
          },
          "metadata": {
            "tags": []
          },
          "execution_count": 38
        }
      ]
    },
    {
      "cell_type": "code",
      "metadata": {
        "id": "5aMIw9P_7KYa",
        "outputId": "6110fbcb-ca58-41c7-d65a-7527cb072d6a",
        "colab": {
          "base_uri": "https://localhost:8080/"
        }
      },
      "source": [
        "test_loss, test_acc = net.evaluate(X_test,y_test)"
      ],
      "execution_count": 39,
      "outputs": [
        {
          "output_type": "stream",
          "text": [
            "313/313 [==============================] - 1s 3ms/step - loss: 0.0892 - accuracy: 0.9764\n"
          ],
          "name": "stdout"
        }
      ]
    },
    {
      "cell_type": "code",
      "metadata": {
        "id": "qs5y2Hlt7KeD"
      },
      "source": [
        "X_val = X_train[:10000]\n",
        "partial_X_train = X_train[10000:]\n",
        "\n",
        "y_val = y_train[:10000]\n",
        "partial_y_train = y_train[10000:]"
      ],
      "execution_count": 40,
      "outputs": []
    },
    {
      "cell_type": "code",
      "metadata": {
        "id": "lf_QlOCb7K33",
        "outputId": "dc876a8a-a9c8-452a-8eb8-00a0708358e1",
        "colab": {
          "base_uri": "https://localhost:8080/"
        }
      },
      "source": [
        "val= net.fit(partial_X_train,partial_y_train,epochs=20, batch_size=128, validation_data=(X_val, y_val),verbose=1)"
      ],
      "execution_count": 41,
      "outputs": [
        {
          "output_type": "stream",
          "text": [
            "Epoch 1/20\n",
            "391/391 [==============================] - 11s 27ms/step - loss: 0.0260 - accuracy: 0.9920 - val_loss: 0.0241 - val_accuracy: 0.9922\n",
            "Epoch 2/20\n",
            "391/391 [==============================] - 11s 27ms/step - loss: 0.0225 - accuracy: 0.9930 - val_loss: 0.0292 - val_accuracy: 0.9904\n",
            "Epoch 3/20\n",
            "391/391 [==============================] - 11s 28ms/step - loss: 0.0199 - accuracy: 0.9936 - val_loss: 0.0351 - val_accuracy: 0.9891\n",
            "Epoch 4/20\n",
            "391/391 [==============================] - 11s 28ms/step - loss: 0.0157 - accuracy: 0.9950 - val_loss: 0.0373 - val_accuracy: 0.9890\n",
            "Epoch 5/20\n",
            "391/391 [==============================] - 11s 28ms/step - loss: 0.0165 - accuracy: 0.9950 - val_loss: 0.0397 - val_accuracy: 0.9891\n",
            "Epoch 6/20\n",
            "391/391 [==============================] - 11s 28ms/step - loss: 0.0137 - accuracy: 0.9959 - val_loss: 0.0355 - val_accuracy: 0.9893\n",
            "Epoch 7/20\n",
            "391/391 [==============================] - 11s 28ms/step - loss: 0.0112 - accuracy: 0.9966 - val_loss: 0.0503 - val_accuracy: 0.9860\n",
            "Epoch 8/20\n",
            "391/391 [==============================] - 11s 28ms/step - loss: 0.0139 - accuracy: 0.9957 - val_loss: 0.0414 - val_accuracy: 0.9891\n",
            "Epoch 9/20\n",
            "391/391 [==============================] - 11s 28ms/step - loss: 0.0143 - accuracy: 0.9954 - val_loss: 0.0730 - val_accuracy: 0.9813\n",
            "Epoch 10/20\n",
            "391/391 [==============================] - 11s 28ms/step - loss: 0.0120 - accuracy: 0.9965 - val_loss: 0.0466 - val_accuracy: 0.9875\n",
            "Epoch 11/20\n",
            "391/391 [==============================] - 11s 27ms/step - loss: 0.0092 - accuracy: 0.9970 - val_loss: 0.0665 - val_accuracy: 0.9846\n",
            "Epoch 12/20\n",
            "391/391 [==============================] - 11s 27ms/step - loss: 0.0103 - accuracy: 0.9967 - val_loss: 0.0520 - val_accuracy: 0.9873\n",
            "Epoch 13/20\n",
            "391/391 [==============================] - 11s 27ms/step - loss: 0.0136 - accuracy: 0.9955 - val_loss: 0.0552 - val_accuracy: 0.9878\n",
            "Epoch 14/20\n",
            "391/391 [==============================] - 11s 27ms/step - loss: 0.0072 - accuracy: 0.9976 - val_loss: 0.0610 - val_accuracy: 0.9865\n",
            "Epoch 15/20\n",
            "391/391 [==============================] - 11s 28ms/step - loss: 0.0099 - accuracy: 0.9970 - val_loss: 0.0599 - val_accuracy: 0.9853\n",
            "Epoch 16/20\n",
            "391/391 [==============================] - 11s 27ms/step - loss: 0.0126 - accuracy: 0.9960 - val_loss: 0.0717 - val_accuracy: 0.9848\n",
            "Epoch 17/20\n",
            "391/391 [==============================] - 11s 27ms/step - loss: 0.0063 - accuracy: 0.9982 - val_loss: 0.0525 - val_accuracy: 0.9861\n",
            "Epoch 18/20\n",
            "391/391 [==============================] - 11s 27ms/step - loss: 0.0076 - accuracy: 0.9979 - val_loss: 0.0737 - val_accuracy: 0.9826\n",
            "Epoch 19/20\n",
            "391/391 [==============================] - 11s 27ms/step - loss: 0.0098 - accuracy: 0.9971 - val_loss: 0.0584 - val_accuracy: 0.9871\n",
            "Epoch 20/20\n",
            "391/391 [==============================] - 11s 27ms/step - loss: 0.0066 - accuracy: 0.9981 - val_loss: 0.0620 - val_accuracy: 0.9859\n"
          ],
          "name": "stdout"
        }
      ]
    },
    {
      "cell_type": "code",
      "metadata": {
        "id": "zeqMHdQa7vqc"
      },
      "source": [
        "val_dict = val.history\n",
        "loss = val_dict['loss']\n",
        "val_loss = val_dict['val_loss']"
      ],
      "execution_count": 42,
      "outputs": []
    },
    {
      "cell_type": "code",
      "metadata": {
        "id": "zJ8EnNp67vyT",
        "outputId": "d2c56943-cf6a-4eb9-cccc-97f1a6ff5f7f",
        "colab": {
          "base_uri": "https://localhost:8080/",
          "height": 283
        }
      },
      "source": [
        "x = np.arange(0,len(loss))\n",
        "plt.plot(x,loss,'b.',label='E')\n",
        "plt.plot(x,val_loss,'r.',label='$E_v$')\n",
        "plt.legend()"
      ],
      "execution_count": 44,
      "outputs": [
        {
          "output_type": "execute_result",
          "data": {
            "text/plain": [
              "<matplotlib.legend.Legend at 0x7f4f67f6a630>"
            ]
          },
          "metadata": {
            "tags": []
          },
          "execution_count": 44
        },
        {
          "output_type": "display_data",
          "data": {
            "image/png": "[encoded data removed]",
            "text/plain": [
              "<Figure size 432x288 with 1 Axes>"
            ]
          },
          "metadata": {
            "tags": [],
            "needs_background": "light"
          }
        }
      ]
    },
    {
      "cell_type": "code",
      "metadata": {
        "id": "ZVqGDLJ07v8-",
        "outputId": "f73ced16-bc89-4185-8e19-57d10d08f144",
        "colab": {
          "base_uri": "https://localhost:8080/",
          "height": 283
        }
      },
      "source": [
        "acc = val_dict['accuracy']\n",
        "val_acc = val_dict['val_accuracy']\n",
        "plt.plot(x,acc,'b.',label='Accuracy')\n",
        "plt.plot(x,val_acc,'r.',label='A_v')"
      ],
      "execution_count": 46,
      "outputs": [
        {
          "output_type": "execute_result",
          "data": {
            "text/plain": [
              "[<matplotlib.lines.Line2D at 0x7f4f67f0ebe0>]"
            ]
          },
          "metadata": {
            "tags": []
          },
          "execution_count": 46
        },
        {
          "output_type": "display_data",
          "data": {
            "image/png": "[encoded data removed]",
            "text/plain": [
              "<Figure size 432x288 with 1 Axes>"
            ]
          },
          "metadata": {
            "tags": [],
            "needs_background": "light"
          }
        }
      ]
    },
    {
      "cell_type": "code",
      "metadata": {
        "id": "ZQzGMBfQ7wEV"
      },
      "source": [
        "model = models.Sequential()\n",
        "model.add(layers.Dense(512, activation='relu', input_shape=(28*28,))) \n",
        "model.add(layers.Dropout(0.5))  \n",
        "model.add(layers.Dense(512, activation='relu')) \n",
        "model.add(layers.Dropout(0.5))  \n",
        "model.add(layers.Dense(10, activation='softmax')) \n",
        "model.compile(optimizer='nadam',loss='categorical_crossentropy',metrics=['acc'])"
      ],
      "execution_count": 26,
      "outputs": []
    },
    {
      "cell_type": "code",
      "metadata": {
        "id": "jkCefbwk7wNP"
      },
      "source": [
        "val2= model.fit(partial_X_train,partial_y_train,epochs=20, batch_size=128, validation_data=(X_val, y_val),verbose=0)"
      ],
      "execution_count": 27,
      "outputs": []
    },
    {
      "cell_type": "code",
      "metadata": {
        "id": "LOlmbvNl-B6n",
        "outputId": "4e014a60-7c2b-45c1-d426-d02aeac404ed",
        "colab": {
          "base_uri": "https://localhost:8080/",
          "height": 283
        }
      },
      "source": [
        "val_dict = val2.history\n",
        "loss = val_dict['loss']\n",
        "val_loss = val_dict['val_loss']\n",
        "\n",
        "x = np.arange(0,len(loss))\n",
        "plt.plot(x,loss,'b.',label='E')\n",
        "plt.plot(x,val_loss,'r.',label='$E_v$')\n",
        "plt.legend()"
      ],
      "execution_count": 47,
      "outputs": [
        {
          "output_type": "execute_result",
          "data": {
            "text/plain": [
              "<matplotlib.legend.Legend at 0x7f4f67e158d0>"
            ]
          },
          "metadata": {
            "tags": []
          },
          "execution_count": 47
        },
        {
          "output_type": "display_data",
          "data": {
            "image/png": "[encoded data removed]",
            "text/plain": [
              "<Figure size 432x288 with 1 Axes>"
            ]
          },
          "metadata": {
            "tags": [],
            "needs_background": "light"
          }
        }
      ]
    },
    {
      "cell_type": "code",
      "metadata": {
        "id": "aayy-rBC-CWz",
        "outputId": "68bd6627-733a-4fb8-9ce4-cf050c7a04fb",
        "colab": {
          "base_uri": "https://localhost:8080/",
          "height": 283
        }
      },
      "source": [
        "acc = val_dict['acc']\n",
        "val_acc = val_dict['val_acc']\n",
        "plt.plot(x,acc,'b.',label='Accuracy')\n",
        "plt.plot(x,val_acc,'r.',label='A_v')"
      ],
      "execution_count": 48,
      "outputs": [
        {
          "output_type": "execute_result",
          "data": {
            "text/plain": [
              "[<matplotlib.lines.Line2D at 0x7f4f67eb8cf8>]"
            ]
          },
          "metadata": {
            "tags": []
          },
          "execution_count": 48
        },
        {
          "output_type": "display_data",
          "data": {
            "image/png": "[encoded data removed]",
            "text/plain": [
              "<Figure size 432x288 with 1 Axes>"
            ]
          },
          "metadata": {
            "tags": [],
            "needs_background": "light"
          }
        }
      ]
    },
    {
      "cell_type": "code",
      "metadata": {
        "id": "EWpLFf_O-CrH",
        "outputId": "b0438767-01a3-4e11-f0e8-bfcf1046045e",
        "colab": {
          "base_uri": "https://localhost:8080/"
        }
      },
      "source": [
        "test_loss, test_acc = net.evaluate(X_test,y_test)"
      ],
      "execution_count": 49,
      "outputs": [
        {
          "output_type": "stream",
          "text": [
            "313/313 [==============================] - 1s 3ms/step - loss: 0.1143 - accuracy: 0.9813\n"
          ],
          "name": "stdout"
        }
      ]
    },
    {
      "cell_type": "code",
      "metadata": {
        "id": "UY65BGfu-C_z",
        "outputId": "1f4275d8-734f-4d60-a631-3c24f6ed613b",
        "colab": {
          "base_uri": "https://localhost:8080/"
        }
      },
      "source": [
        "test_loss, test_acc = model.evaluate(X_test,y_test)"
      ],
      "execution_count": 50,
      "outputs": [
        {
          "output_type": "stream",
          "text": [
            "313/313 [==============================] - 1s 3ms/step - loss: 0.0651 - acc: 0.9840\n"
          ],
          "name": "stdout"
        }
      ]
    }
  ]
}